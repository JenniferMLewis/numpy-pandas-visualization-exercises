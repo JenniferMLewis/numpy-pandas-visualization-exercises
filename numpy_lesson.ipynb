{
 "cells": [
  {
   "cell_type": "markdown",
   "id": "conscious-chaos",
   "metadata": {},
   "source": [
    "# What? \n",
    "- Numpy is the fundamental package for scientific computing in Python.\n",
    "- The numpy array is an n-dimensional array.\n",
    "- Numpy methods allow for fast and simple linear algebra and data processing tasks.\n",
    "\n",
    "## So What? \n",
    "- Numpy is one of the main reasons why Python is so powerful and popular for scientific computing\n",
    "- Super fast. Numpy arrays are implemented in C, which makes numpy very fast.\n",
    "- Numpy is the most popular linear algebra library for Python\n",
    "- Provides loop-like behavior w/o the overhead of loops or list comprehensions (vectorized operations)\n",
    "- Provides list + loop + conditional behavior for filtering arrays\n",
    "\n",
    "## Now What?\n",
    "- Start working with numpy arrays! `np.array([1, 2, 3])` to create a numpy array!\n",
    "- We'll start using built-in numpy functions all the time:\n",
    "    - min, max, mean, sum, std\n",
    "    - np.median, \n",
    "- Learn to use some vectorized operations\n",
    "- Learn how to create arrays of booleans to filter results"
   ]
  },
  {
   "cell_type": "code",
   "execution_count": null,
   "id": "inner-wheat",
   "metadata": {},
   "outputs": [],
   "source": [
    "import numpy as np"
   ]
  },
  {
   "cell_type": "code",
   "execution_count": null,
   "id": "grand-housing",
   "metadata": {
    "scrolled": true
   },
   "outputs": [],
   "source": [
    "%%timeit\n",
    "[x ** 2 for x in range(1, 1_000_000)]"
   ]
  },
  {
   "cell_type": "code",
   "execution_count": null,
   "id": "fixed-vancouver",
   "metadata": {},
   "outputs": [],
   "source": [
    "%%timeit\n",
    "np.arange(1, 1_000_000) ** 2"
   ]
  },
  {
   "cell_type": "code",
   "execution_count": null,
   "id": "designed-pension",
   "metadata": {},
   "outputs": [],
   "source": [
    "370 / 3.04"
   ]
  },
  {
   "cell_type": "markdown",
   "id": "palestinian-medium",
   "metadata": {},
   "source": [
    "C is \"closer to the metal\" than Python\n",
    "\n",
    "Assembly is closer to the metal than C\n",
    "\n",
    "and Processor instruction sets == are the metal!"
   ]
  },
  {
   "cell_type": "markdown",
   "id": "ce040669",
   "metadata": {},
   "source": [
    "## Getting Started\n",
    "- The `np.array` method converts iterables and collections into numpy arrays\n",
    "- The numpy array is n-dimensional, which means it's flexible."
   ]
  },
  {
   "cell_type": "code",
   "execution_count": null,
   "id": "weighted-childhood",
   "metadata": {},
   "outputs": [],
   "source": [
    "# Let's make our first numpy array!\n",
    "# make a list x\n",
    "x = [1, 2, 3, 4, 5]\n",
    "# convert that list\n",
    "x = np.array(x)\n",
    "\n",
    "x, type(x)"
   ]
  },
  {
   "cell_type": "code",
   "execution_count": null,
   "id": "binary-kitchen",
   "metadata": {},
   "outputs": [],
   "source": [
    "# properties are different than methods! Methods are functions,\n",
    "#  properties are qualities of an object, so we just state them, we don't add a ()\n",
    "# shape tells us the shape of our n-dimensional array\n",
    "x.shape"
   ]
  },
  {
   "cell_type": "markdown",
   "id": "319185fd",
   "metadata": {},
   "source": [
    "The `np.array()` method converts Python collections into numpy arrays of the appropriate dimension  "
   ]
  },
  {
   "cell_type": "code",
   "execution_count": null,
   "id": "exempt-airfare",
   "metadata": {},
   "outputs": [],
   "source": [
    "matrix = np.array([\n",
    "    [1, 2, 3],\n",
    "    [4, 5, 6],\n",
    "    [7, 0, 9]\n",
    "])\n",
    "matrix"
   ]
  },
  {
   "cell_type": "code",
   "execution_count": null,
   "id": "sharing-asbestos",
   "metadata": {},
   "outputs": [],
   "source": [
    "type(matrix)"
   ]
  },
  {
   "cell_type": "markdown",
   "id": "a2bdfa6d",
   "metadata": {},
   "source": [
    ".dtype is a property on numpy arrays"
   ]
  },
  {
   "cell_type": "code",
   "execution_count": null,
   "id": "3f576a00",
   "metadata": {},
   "outputs": [],
   "source": [
    "matrix.dtype"
   ]
  },
  {
   "cell_type": "markdown",
   "id": "2329d5bc",
   "metadata": {},
   "source": [
    "Numpy array element syntax is the same as Python (because it's Python)"
   ]
  },
  {
   "cell_type": "code",
   "execution_count": null,
   "id": "fancy-sessions",
   "metadata": {},
   "outputs": [],
   "source": [
    "# zero indexed\n",
    "matrix[0]"
   ]
  },
  {
   "cell_type": "code",
   "execution_count": null,
   "id": "japanese-running",
   "metadata": {},
   "outputs": [],
   "source": [
    "# first element of the first array\n",
    "matrix[0][0]"
   ]
  },
  {
   "cell_type": "code",
   "execution_count": null,
   "id": "arctic-prevention",
   "metadata": {},
   "outputs": [],
   "source": [
    "# First element of the first array\n",
    "matrix[0, 0]"
   ]
  },
  {
   "cell_type": "code",
   "execution_count": null,
   "id": "exact-message",
   "metadata": {},
   "outputs": [],
   "source": [
    "# axis: [row, col]\n",
    "first_row = matrix[0]\n",
    "first_row"
   ]
  },
  {
   "cell_type": "code",
   "execution_count": null,
   "id": "human-quantum",
   "metadata": {},
   "outputs": [],
   "source": [
    "first_element = first_row[0]\n",
    "first_element"
   ]
  },
  {
   "cell_type": "markdown",
   "id": "51838dce",
   "metadata": {},
   "source": [
    "Slicing syntax works the same as in Python"
   ]
  },
  {
   "cell_type": "code",
   "execution_count": null,
   "id": "appointed-sending",
   "metadata": {},
   "outputs": [],
   "source": [
    "x[0:3]"
   ]
  },
  {
   "cell_type": "code",
   "execution_count": null,
   "id": "tutorial-adventure",
   "metadata": {},
   "outputs": [],
   "source": [
    "a = np.array(range(1, 100))\n",
    "a"
   ]
  },
  {
   "cell_type": "code",
   "execution_count": null,
   "id": "broken-description",
   "metadata": {},
   "outputs": [],
   "source": [
    "# Numpy has many descriptive statistics as methods\n",
    "a.sum(), a.mean(), a.min(), a.max(), a.std()"
   ]
  },
  {
   "cell_type": "code",
   "execution_count": null,
   "id": "academic-background",
   "metadata": {},
   "outputs": [],
   "source": [
    "# Calling .median off of the class instead of the array objects\n",
    "np.median(a)"
   ]
  },
  {
   "cell_type": "code",
   "execution_count": null,
   "id": "f5424f0f",
   "metadata": {},
   "outputs": [],
   "source": [
    " # my_thing => b\n",
    " # where => []\n",
    " # conditions => should_include_elements"
   ]
  },
  {
   "cell_type": "code",
   "execution_count": null,
   "id": "impaired-rendering",
   "metadata": {},
   "outputs": [],
   "source": [
    "b = np.array([2, 3, 4, 5])\n",
    "should_include_elements = np.array([False, True, False, True])\n",
    "b[should_include_elements]"
   ]
  },
  {
   "cell_type": "code",
   "execution_count": null,
   "id": "agreed-concern",
   "metadata": {},
   "outputs": [],
   "source": [
    "should_include_elements = np.array([False, True, True])\n",
    "matrix[should_include_elements]"
   ]
  },
  {
   "cell_type": "markdown",
   "id": "metropolitan-dryer",
   "metadata": {},
   "source": [
    "## Arrays of Booleans == Beating Heart of Filtering/Transforming Arrays\n",
    "- This is how we can do loop-like stuff w/o loops\n",
    "- This \"spell\" is called \"Boolean Masking\" and folks may \"array filtering\" or \"indexing\""
   ]
  },
  {
   "cell_type": "code",
   "execution_count": null,
   "id": "9b681ef3",
   "metadata": {},
   "outputs": [],
   "source": [
    "# pep8:\n",
    "# typical structure:\n",
    "# spaces between elements,\n",
    "# spaces between assignments var = thing_into_var\n",
    "# ^not when you are denoting arguemtns in a function\n",
    "# Example of normal formatting standards covered above:\n",
    "#   x = 5\n",
    "#   my_funct(x=5)"
   ]
  },
  {
   "cell_type": "code",
   "execution_count": null,
   "id": "awful-hamburg",
   "metadata": {},
   "outputs": [],
   "source": [
    "x = np.array([1, 2, 3, 4, 5])"
   ]
  },
  {
   "cell_type": "code",
   "execution_count": null,
   "id": "magnetic-index",
   "metadata": {},
   "outputs": [],
   "source": [
    "x == 3"
   ]
  },
  {
   "cell_type": "code",
   "execution_count": null,
   "id": "chubby-vulnerability",
   "metadata": {},
   "outputs": [],
   "source": [
    "x < -9"
   ]
  },
  {
   "cell_type": "code",
   "execution_count": null,
   "id": "fifty-cherry",
   "metadata": {},
   "outputs": [],
   "source": [
    "x > 3"
   ]
  },
  {
   "cell_type": "code",
   "execution_count": null,
   "id": "integrated-skill",
   "metadata": {},
   "outputs": [],
   "source": [
    "x % 2 == 0"
   ]
  },
  {
   "cell_type": "code",
   "execution_count": null,
   "id": "opening-address",
   "metadata": {},
   "outputs": [],
   "source": [
    "only_threes = x == 3\n",
    "x[only_threes]"
   ]
  },
  {
   "cell_type": "code",
   "execution_count": null,
   "id": "linear-september",
   "metadata": {},
   "outputs": [],
   "source": [
    "# We don't need the extra variable, however, we can do the following:\n",
    "# I read this code almost like SQL in my head:\n",
    "# Select X where X is equal to 3\n",
    "x[x == 3]"
   ]
  },
  {
   "cell_type": "code",
   "execution_count": null,
   "id": "static-blond",
   "metadata": {},
   "outputs": [],
   "source": [
    "# Select X where X is less than zero\n",
    "x[x < 0]"
   ]
  },
  {
   "cell_type": "code",
   "execution_count": null,
   "id": "adjustable-albania",
   "metadata": {},
   "outputs": [],
   "source": [
    "# Select x where x is greater than 3\n",
    "x[x > 3]"
   ]
  },
  {
   "cell_type": "code",
   "execution_count": null,
   "id": "conventional-identity",
   "metadata": {},
   "outputs": [],
   "source": [
    "# Select x where x divided by two leaves no remainder\n",
    "evens_from_x = x[x % 2 == 0]\n",
    "evens_from_x"
   ]
  },
  {
   "cell_type": "code",
   "execution_count": null,
   "id": "disabled-juice",
   "metadata": {},
   "outputs": [],
   "source": [
    "# In the Python admissions test, there was a question called \"remove_evens\" where you write a function that removes evens\n",
    "# In base Python, this is a loop w/ a conditional and another operation to append to a list, or a list comprehension\n",
    "def remove_evens(x):\n",
    "    x = np.array(x)\n",
    "    return x[x % 2 == 0]\n",
    "\n",
    "y = remove_evens([2, 3, 34, 5, 6, 24, 442, 24, 12, 3, 24, 3, 3, 23, 23, 23, 10])\n",
    "y"
   ]
  },
  {
   "cell_type": "code",
   "execution_count": null,
   "id": "subsequent-warehouse",
   "metadata": {},
   "outputs": [],
   "source": [
    "x = np.array([1, 2, \"3\", 4])"
   ]
  },
  {
   "cell_type": "code",
   "execution_count": null,
   "id": "trained-deadline",
   "metadata": {},
   "outputs": [],
   "source": [
    "x"
   ]
  },
  {
   "cell_type": "markdown",
   "id": "medium-generation",
   "metadata": {},
   "source": [
    "## Intro to Vectorization\n",
    "- Loop like behavior on a array w/o the loop"
   ]
  },
  {
   "cell_type": "code",
   "execution_count": null,
   "id": "theoretical-stamp",
   "metadata": {},
   "outputs": [],
   "source": [
    "x = np.zeros(10)\n",
    "x"
   ]
  },
  {
   "cell_type": "code",
   "execution_count": null,
   "id": "criminal-douglas",
   "metadata": {},
   "outputs": [],
   "source": [
    "x + 1"
   ]
  },
  {
   "cell_type": "code",
   "execution_count": null,
   "id": "polyphonic-reason",
   "metadata": {},
   "outputs": [],
   "source": [
    "# Let's make an array of random integers\n",
    "# start is inclusive, end is exclusive\n",
    "# So the following line is like rolling a 20 sided die\n",
    "x = np.random.randint(1, 21)\n",
    "x"
   ]
  },
  {
   "cell_type": "code",
   "execution_count": null,
   "id": "passive-shield",
   "metadata": {},
   "outputs": [],
   "source": [
    "# 3rd argument is the size (or the number of random numbers)\n",
    "x = np.random.randint(1, 21, 10)\n",
    "x"
   ]
  },
  {
   "cell_type": "code",
   "execution_count": null,
   "id": "funded-sound",
   "metadata": {},
   "outputs": [],
   "source": [
    "# Let's make Python fall on its face\n",
    "a = [1, 2, 3]\n",
    "\n",
    "# In Python, how would we add one to every item on this list?\n",
    "[n + 1 for n in a]"
   ]
  },
  {
   "cell_type": "code",
   "execution_count": null,
   "id": "cooked-psychiatry",
   "metadata": {},
   "outputs": [],
   "source": [
    "x + 1"
   ]
  },
  {
   "cell_type": "code",
   "execution_count": null,
   "id": "naughty-mistress",
   "metadata": {},
   "outputs": [],
   "source": [
    "# elementwise division\n",
    "x / 10"
   ]
  },
  {
   "cell_type": "code",
   "execution_count": null,
   "id": "intimate-business",
   "metadata": {},
   "outputs": [],
   "source": [
    "# Vector addition\n",
    "x + x"
   ]
  },
  {
   "cell_type": "code",
   "execution_count": null,
   "id": "educated-address",
   "metadata": {},
   "outputs": [],
   "source": [
    "# scalar-vector multiplication along w/ vector subtraction\n",
    "x - 2*x"
   ]
  },
  {
   "cell_type": "code",
   "execution_count": null,
   "id": "behind-paste",
   "metadata": {},
   "outputs": [],
   "source": [
    "# There's many more linear algebra features\n",
    "np.dot(x, x)"
   ]
  },
  {
   "cell_type": "code",
   "execution_count": null,
   "id": "successful-association",
   "metadata": {},
   "outputs": [],
   "source": [
    "np.linalg.norm(x)"
   ]
  },
  {
   "cell_type": "code",
   "execution_count": null,
   "id": "governing-douglas",
   "metadata": {},
   "outputs": [],
   "source": [
    "original_array = [1, 2, 3, 4, 5]\n",
    "array_with_one_added = []\n",
    "for n in original_array:\n",
    "    array_with_one_added.append(n + 1)\n",
    "array_with_one_added"
   ]
  },
  {
   "cell_type": "code",
   "execution_count": null,
   "id": "comfortable-privilege",
   "metadata": {},
   "outputs": [],
   "source": [
    "np.array(original_array) + 1"
   ]
  },
  {
   "cell_type": "code",
   "execution_count": null,
   "id": "sitting-equilibrium",
   "metadata": {},
   "outputs": [],
   "source": [
    "beatles = np.array([\"Ringo\", \"George\", \"Paul\", \"John\"])"
   ]
  },
  {
   "cell_type": "code",
   "execution_count": null,
   "id": "disabled-musician",
   "metadata": {},
   "outputs": [],
   "source": [
    "beatles == \"Ringo\""
   ]
  },
  {
   "cell_type": "code",
   "execution_count": null,
   "id": "utility-revision",
   "metadata": {},
   "outputs": [],
   "source": [
    "beatles[beatles != \"Ringo\"]"
   ]
  },
  {
   "cell_type": "code",
   "execution_count": null,
   "id": "likely-probability",
   "metadata": {},
   "outputs": [],
   "source": [
    "beatles[beatles == \"Ringo\"]"
   ]
  },
  {
   "cell_type": "code",
   "execution_count": null,
   "id": "instrumental-running",
   "metadata": {},
   "outputs": [],
   "source": [
    "matrix * 2"
   ]
  },
  {
   "cell_type": "code",
   "execution_count": null,
   "id": "fabulous-process",
   "metadata": {},
   "outputs": [],
   "source": [
    "# Inner product\n",
    "np.dot(x, x)"
   ]
  },
  {
   "cell_type": "code",
   "execution_count": null,
   "id": "dynamic-caribbean",
   "metadata": {},
   "outputs": [],
   "source": [
    "np.random.randn(10)"
   ]
  },
  {
   "cell_type": "code",
   "execution_count": null,
   "id": "about-carry",
   "metadata": {},
   "outputs": [],
   "source": [
    "np.random.randint(1, 7, 6)"
   ]
  },
  {
   "cell_type": "markdown",
   "id": "cb936a34",
   "metadata": {},
   "source": [
    "## NumPy Official Documentation\n",
    "- [NumPy Homepage](https://numpy.org/)\n",
    "- [NumPy Quickstart](https://numpy.org/devdocs/user/quickstart.html)\n",
    "\n",
    "\n",
    "## Other Works by [Ryan Orsinger](https://github.com/ryanorsinger)\n",
    "- [101 Exercises](https://101exercises.com/) for Python or JavaScript basics\n",
    "- [90 Minutes to Machine Learning](https://www.youtube.com/watch?v=VMx_3yM6G9s)\n",
    "\n",
    "##### [Apply to Codeup](https://codeup.com/)'s Data Science program to learn numpy and much more with Ryan and the entire team"
   ]
  }
 ],
 "metadata": {
  "kernelspec": {
   "display_name": "Python 3.9.12",
   "language": "python",
   "name": "python3"
  },
  "language_info": {
   "codemirror_mode": {
    "name": "ipython",
    "version": 3
   },
   "file_extension": ".py",
   "mimetype": "text/x-python",
   "name": "python",
   "nbconvert_exporter": "python",
   "pygments_lexer": "ipython3",
   "version": "3.9.12"
  },
  "vscode": {
   "interpreter": {
    "hash": "40d3a090f54c6569ab1632332b64b2c03c39dcf918b08424e98f38b5ae0af88f"
   }
  }
 },
 "nbformat": 4,
 "nbformat_minor": 5
}
