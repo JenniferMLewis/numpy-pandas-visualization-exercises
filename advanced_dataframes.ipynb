{
 "cells": [
  {
   "cell_type": "code",
   "execution_count": 1,
   "metadata": {},
   "outputs": [],
   "source": [
    "import numpy as np\n",
    "import os\n",
    "import pandas as pd\n",
    "import env\n",
    "from pydataset import data"
   ]
  },
  {
   "cell_type": "code",
   "execution_count": 2,
   "metadata": {},
   "outputs": [
    {
     "data": {
      "text/plain": [
       "True"
      ]
     },
     "execution_count": 2,
     "metadata": {},
     "output_type": "execute_result"
    }
   ],
   "source": [
    "os.path.exists('env.py')"
   ]
  },
  {
   "cell_type": "markdown",
   "metadata": {},
   "source": [
    "1. Create a function named `get_db_url`. It should accept a username, hostname, password, and database name and return a url connection string formatted like in the example at the start of this lesson."
   ]
  },
  {
   "cell_type": "code",
   "execution_count": 3,
   "metadata": {},
   "outputs": [],
   "source": [
    "def get_db_url(db, env_file=os.path.exists('env.py')):\n",
    "    '''\n",
    "    Accepts the string of which schema you want to connect to, grabs user, password, and host\n",
    "    from your env.py file.\n",
    "    This function is so you aren't posting your login credientials.\n",
    "    Please make sure your env file is ALWAYS in your gitignore.\n",
    "    '''\n",
    "    if env_file:\n",
    "        user, password, host = (env.user, env.password, env.host)\n",
    "        return f'mysql+pymysql://{user}:{password}@{host}/{db}'\n",
    "    else:\n",
    "        return 'Please ensure you have proper credentials in your env.py, and check the spelling of the database.'\n"
   ]
  },
  {
   "cell_type": "markdown",
   "metadata": {},
   "source": [
    "2. Use your function to obtain a connection to the `employees` database.\n",
    "\n",
    "3. Once you have successfully run a query:\n",
    "\n",
    "    a. Intentionally make a typo in the database url. What kind of error message do you see?\n",
    "    \n",
    "    b. Intentionally make an error in your SQL query. What does the error message look like?"
   ]
  },
  {
   "cell_type": "code",
   "execution_count": 4,
   "metadata": {},
   "outputs": [
    {
     "data": {
      "text/plain": [
       "(300024, 6)"
      ]
     },
     "execution_count": 4,
     "metadata": {},
     "output_type": "execute_result"
    }
   ],
   "source": [
    "url = get_db_url(\"employees\")\n",
    "sql = \"\"\"\n",
    "SELECT * FROM employees\n",
    "\"\"\"\n",
    "\n",
    "employees = pd.read_sql(sql, url)\n",
    "employees.shape"
   ]
  },
  {
   "cell_type": "markdown",
   "metadata": {},
   "source": [
    "4. Read the `employees` and `titles` tables into two separate DataFrames."
   ]
  },
  {
   "cell_type": "code",
   "execution_count": 5,
   "metadata": {},
   "outputs": [],
   "source": [
    "# THESE NEXT ONES ARE COMMENTED OUT BECAUSE I DON'T WANT TO SAVE A LOCAL COPY EVERY TIME.\n",
    "\n",
    "#df_employees = pd.read_sql('SELECT * FROM employees', url)\n",
    "#df_titles = pd.read_sql('SELECT * FROM titles', url)"
   ]
  },
  {
   "cell_type": "code",
   "execution_count": 6,
   "metadata": {},
   "outputs": [],
   "source": [
    "# Creates a local copy in .csv (comma separated valuesheet) form.\n",
    "#df_employees.to_csv('employees.csv')\n",
    "#df_titles.to_csv('titles.csv')"
   ]
  },
  {
   "cell_type": "code",
   "execution_count": 7,
   "metadata": {},
   "outputs": [
    {
     "name": "stdout",
     "output_type": "stream",
     "text": [
      "(300024, 7)\n",
      "(443308, 5)\n"
     ]
    }
   ],
   "source": [
    "df_employees = pd.read_csv('employees.csv')\n",
    "df_titles = pd.read_csv('titles.csv')\n",
    "print(df_employees.shape)\n",
    "print(df_titles.shape)"
   ]
  },
  {
   "cell_type": "markdown",
   "metadata": {},
   "source": [
    "5. How many rows and columns do you have in each DataFrame? Is that what you expected?\n"
   ]
  },
  {
   "cell_type": "code",
   "execution_count": 8,
   "metadata": {},
   "outputs": [
    {
     "name": "stdout",
     "output_type": "stream",
     "text": [
      "<class 'pandas.core.frame.DataFrame'>\n",
      "RangeIndex: 300024 entries, 0 to 300023\n",
      "Data columns (total 7 columns):\n",
      " #   Column      Non-Null Count   Dtype \n",
      "---  ------      --------------   ----- \n",
      " 0   Unnamed: 0  300024 non-null  int64 \n",
      " 1   emp_no      300024 non-null  int64 \n",
      " 2   birth_date  300024 non-null  object\n",
      " 3   first_name  300024 non-null  object\n",
      " 4   last_name   300024 non-null  object\n",
      " 5   gender      300024 non-null  object\n",
      " 6   hire_date   300024 non-null  object\n",
      "dtypes: int64(2), object(5)\n",
      "memory usage: 16.0+ MB\n",
      "None\n",
      "<class 'pandas.core.frame.DataFrame'>\n",
      "RangeIndex: 443308 entries, 0 to 443307\n",
      "Data columns (total 5 columns):\n",
      " #   Column      Non-Null Count   Dtype \n",
      "---  ------      --------------   ----- \n",
      " 0   Unnamed: 0  443308 non-null  int64 \n",
      " 1   emp_no      443308 non-null  int64 \n",
      " 2   title       443308 non-null  object\n",
      " 3   from_date   443308 non-null  object\n",
      " 4   to_date     443308 non-null  object\n",
      "dtypes: int64(2), object(3)\n",
      "memory usage: 16.9+ MB\n",
      "None\n"
     ]
    }
   ],
   "source": [
    "print(df_employees.info())\n",
    "print(df_titles.info())\n",
    "# 7 columns and over 300,000 rows for employees, and 5 columns and over 400,000 rows. \n",
    "# The numbers are about what I expected excpet the 100,000 gap, \n",
    "# but then I remembered it has records of previous titles an employee has."
   ]
  },
  {
   "cell_type": "markdown",
   "metadata": {},
   "source": [
    "6. Display the summary statistics for each DataFrame.\n"
   ]
  },
  {
   "cell_type": "code",
   "execution_count": 9,
   "metadata": {},
   "outputs": [
    {
     "name": "stdout",
     "output_type": "stream",
     "text": [
      "           Unnamed: 0         emp_no  birth_date first_name last_name  gender  \\\n",
      "count   300024.000000  300024.000000      300024     300024    300024  300024   \n",
      "unique            NaN            NaN        4750       1275      1637       2   \n",
      "top               NaN            NaN  1952-03-08     Shahab      Baba       M   \n",
      "freq              NaN            NaN          95        295       226  179973   \n",
      "mean    150011.500000  253321.763392         NaN        NaN       NaN     NaN   \n",
      "std      86609.612919  161828.235540         NaN        NaN       NaN     NaN   \n",
      "min          0.000000   10001.000000         NaN        NaN       NaN     NaN   \n",
      "25%      75005.750000   85006.750000         NaN        NaN       NaN     NaN   \n",
      "50%     150011.500000  249987.500000         NaN        NaN       NaN     NaN   \n",
      "75%     225017.250000  424993.250000         NaN        NaN       NaN     NaN   \n",
      "max     300023.000000  499999.000000         NaN        NaN       NaN     NaN   \n",
      "\n",
      "         hire_date  \n",
      "count       300024  \n",
      "unique        5434  \n",
      "top     1985-06-20  \n",
      "freq           132  \n",
      "mean           NaN  \n",
      "std            NaN  \n",
      "min            NaN  \n",
      "25%            NaN  \n",
      "50%            NaN  \n",
      "75%            NaN  \n",
      "max            NaN  \n",
      "           Unnamed: 0         emp_no     title   from_date     to_date\n",
      "count   443308.000000  443308.000000    443308      443308      443308\n",
      "unique            NaN            NaN         7        6393        5888\n",
      "top               NaN            NaN  Engineer  1998-10-25  9999-01-01\n",
      "freq              NaN            NaN    115003         132      240124\n",
      "mean    221653.500000  253075.034430       NaN         NaN         NaN\n",
      "std     127972.140904  161853.292613       NaN         NaN         NaN\n",
      "min          0.000000   10001.000000       NaN         NaN         NaN\n",
      "25%     110826.750000   84855.750000       NaN         NaN         NaN\n",
      "50%     221653.500000  249847.500000       NaN         NaN         NaN\n",
      "75%     332480.250000  424891.250000       NaN         NaN         NaN\n",
      "max     443307.000000  499999.000000       NaN         NaN         NaN\n"
     ]
    }
   ],
   "source": [
    "print(df_employees.describe(include = 'all'))\n",
    "print(df_titles.describe(include = 'all'))"
   ]
  },
  {
   "cell_type": "markdown",
   "metadata": {},
   "source": [
    "\n",
    "7. How many unique titles are in the `titles` DataFrame?\n"
   ]
  },
  {
   "cell_type": "code",
   "execution_count": 18,
   "metadata": {},
   "outputs": [
    {
     "data": {
      "text/plain": [
       "7"
      ]
     },
     "execution_count": 18,
     "metadata": {},
     "output_type": "execute_result"
    }
   ],
   "source": [
    "len(df_titles['title'].unique())\n"
   ]
  },
  {
   "cell_type": "markdown",
   "metadata": {},
   "source": [
    "\n",
    "8. What is the oldest date in the `to_date` column? \n"
   ]
  },
  {
   "cell_type": "code",
   "execution_count": 20,
   "metadata": {},
   "outputs": [
    {
     "data": {
      "text/plain": [
       "'1985-03-01'"
      ]
     },
     "execution_count": 20,
     "metadata": {},
     "output_type": "execute_result"
    }
   ],
   "source": [
    "df_titles['to_date'].min()"
   ]
  },
  {
   "cell_type": "markdown",
   "metadata": {},
   "source": [
    "\n",
    "9. What is the most recent date in the `to_date` column?"
   ]
  }
 ],
 "metadata": {
  "kernelspec": {
   "display_name": "Python 3.9.12 ('base')",
   "language": "python",
   "name": "python3"
  },
  "language_info": {
   "codemirror_mode": {
    "name": "ipython",
    "version": 3
   },
   "file_extension": ".py",
   "mimetype": "text/x-python",
   "name": "python",
   "nbconvert_exporter": "python",
   "pygments_lexer": "ipython3",
   "version": "3.9.12"
  },
  "orig_nbformat": 4,
  "vscode": {
   "interpreter": {
    "hash": "3067ead486e059ec00ffe7555bdb889e6e264a24dc711bf108106cc7baee8d5d"
   }
  }
 },
 "nbformat": 4,
 "nbformat_minor": 2
}
