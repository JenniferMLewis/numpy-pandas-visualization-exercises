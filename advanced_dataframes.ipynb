{
 "cells": [
  {
   "cell_type": "code",
   "execution_count": 1,
   "metadata": {},
   "outputs": [],
   "source": [
    "import numpy as np\n",
    "import pandas as pd\n",
    "from env import host, user, password\n",
    "from pydataset import data"
   ]
  },
  {
   "cell_type": "markdown",
   "metadata": {},
   "source": [
    "1. Create a function named `get_db_url`. It should accept a username, hostname, password, and database name and return a url connection string formatted like in the example at the start of this lesson."
   ]
  },
  {
   "cell_type": "code",
   "execution_count": 15,
   "metadata": {},
   "outputs": [],
   "source": [
    "def get_db_url(data_base):\n",
    "    url = f'mysql+pymysql://{user}:{password}@{host}/data_base'\n",
    "    return\n"
   ]
  },
  {
   "cell_type": "markdown",
   "metadata": {},
   "source": [
    "2. Use your function to obtain a connection to the `employees` database.\n",
    "\n",
    "3. Once you have successfully run a query:\n",
    "\n",
    "    a. Intentionally make a typo in the database url. What kind of error message do you see?\n",
    "    \n",
    "    b. Intentionally make an error in your SQL query. What does the error message look like?"
   ]
  },
  {
   "cell_type": "code",
   "execution_count": 16,
   "metadata": {},
   "outputs": [
    {
     "data": {
      "text/html": [
       "<div>\n",
       "<style scoped>\n",
       "    .dataframe tbody tr th:only-of-type {\n",
       "        vertical-align: middle;\n",
       "    }\n",
       "\n",
       "    .dataframe tbody tr th {\n",
       "        vertical-align: top;\n",
       "    }\n",
       "\n",
       "    .dataframe thead th {\n",
       "        text-align: right;\n",
       "    }\n",
       "</style>\n",
       "<table border=\"1\" class=\"dataframe\">\n",
       "  <thead>\n",
       "    <tr style=\"text-align: right;\">\n",
       "      <th></th>\n",
       "      <th>emp_no</th>\n",
       "      <th>birth_date</th>\n",
       "      <th>first_name</th>\n",
       "      <th>last_name</th>\n",
       "      <th>gender</th>\n",
       "      <th>hire_date</th>\n",
       "    </tr>\n",
       "  </thead>\n",
       "  <tbody>\n",
       "    <tr>\n",
       "      <th>0</th>\n",
       "      <td>10051</td>\n",
       "      <td>1953-07-28</td>\n",
       "      <td>Hidefumi</td>\n",
       "      <td>Caine</td>\n",
       "      <td>M</td>\n",
       "      <td>1992-10-15</td>\n",
       "    </tr>\n",
       "    <tr>\n",
       "      <th>1</th>\n",
       "      <td>10052</td>\n",
       "      <td>1961-02-26</td>\n",
       "      <td>Heping</td>\n",
       "      <td>Nitsch</td>\n",
       "      <td>M</td>\n",
       "      <td>1988-05-21</td>\n",
       "    </tr>\n",
       "    <tr>\n",
       "      <th>2</th>\n",
       "      <td>10053</td>\n",
       "      <td>1954-09-13</td>\n",
       "      <td>Sanjiv</td>\n",
       "      <td>Zschoche</td>\n",
       "      <td>F</td>\n",
       "      <td>1986-02-04</td>\n",
       "    </tr>\n",
       "    <tr>\n",
       "      <th>3</th>\n",
       "      <td>10054</td>\n",
       "      <td>1957-04-04</td>\n",
       "      <td>Mayumi</td>\n",
       "      <td>Schueller</td>\n",
       "      <td>M</td>\n",
       "      <td>1995-03-13</td>\n",
       "    </tr>\n",
       "    <tr>\n",
       "      <th>4</th>\n",
       "      <td>10055</td>\n",
       "      <td>1956-06-06</td>\n",
       "      <td>Georgy</td>\n",
       "      <td>Dredge</td>\n",
       "      <td>M</td>\n",
       "      <td>1992-04-27</td>\n",
       "    </tr>\n",
       "  </tbody>\n",
       "</table>\n",
       "</div>"
      ],
      "text/plain": [
       "   emp_no  birth_date first_name  last_name gender   hire_date\n",
       "0   10051  1953-07-28   Hidefumi      Caine      M  1992-10-15\n",
       "1   10052  1961-02-26     Heping     Nitsch      M  1988-05-21\n",
       "2   10053  1954-09-13     Sanjiv   Zschoche      F  1986-02-04\n",
       "3   10054  1957-04-04     Mayumi  Schueller      M  1995-03-13\n",
       "4   10055  1956-06-06     Georgy     Dredge      M  1992-04-27"
      ]
     },
     "execution_count": 16,
     "metadata": {},
     "output_type": "execute_result"
    }
   ],
   "source": [
    "get_db_url('employees')\n",
    "pd.read_sql('SELECT * FROM employees LIMIT 5 OFFSET 50', url)"
   ]
  },
  {
   "cell_type": "markdown",
   "metadata": {},
   "source": [
    "4. Read the `employees` and `titles` tables into two separate DataFrames."
   ]
  },
  {
   "cell_type": "code",
   "execution_count": 31,
   "metadata": {},
   "outputs": [],
   "source": [
    "df_employees = pd.read_sql('SELECT * FROM employees', url)\n",
    "df_titles = pd.read_sql('SELECT * FROM titles', url)"
   ]
  },
  {
   "cell_type": "code",
   "execution_count": 34,
   "metadata": {},
   "outputs": [],
   "source": [
    "# Creates a local copy in .csv (comma separated valuesheet) form.\n",
    "df_employees.to_csv('employees.csv')\n",
    "df_titles.to_csv('titles.csv')"
   ]
  },
  {
   "cell_type": "code",
   "execution_count": 36,
   "metadata": {},
   "outputs": [
    {
     "name": "stdout",
     "output_type": "stream",
     "text": [
      "        Unnamed: 0  emp_no            title   from_date     to_date\n",
      "0                0   10001  Senior Engineer  1986-06-26  9999-01-01\n",
      "1                1   10002            Staff  1996-08-03  9999-01-01\n",
      "2                2   10003  Senior Engineer  1995-12-03  9999-01-01\n",
      "3                3   10004         Engineer  1986-12-01  1995-12-01\n",
      "4                4   10004  Senior Engineer  1995-12-01  9999-01-01\n",
      "...            ...     ...              ...         ...         ...\n",
      "443303      443303  499997         Engineer  1987-08-30  1992-08-29\n",
      "443304      443304  499997  Senior Engineer  1992-08-29  9999-01-01\n",
      "443305      443305  499998     Senior Staff  1998-12-27  9999-01-01\n",
      "443306      443306  499998            Staff  1993-12-27  1998-12-27\n",
      "443307      443307  499999         Engineer  1997-11-30  9999-01-01\n",
      "\n",
      "[443308 rows x 5 columns]\n"
     ]
    }
   ],
   "source": [
    "df_employees = pd.read_csv('employees.csv')\n",
    "df_titles = pd.read_csv('titles.csv')"
   ]
  },
  {
   "cell_type": "markdown",
   "metadata": {},
   "source": [
    "5. How many rows and columns do you have in each DataFrame? Is that what you expected?\n"
   ]
  },
  {
   "cell_type": "code",
   "execution_count": null,
   "metadata": {},
   "outputs": [],
   "source": []
  },
  {
   "cell_type": "markdown",
   "metadata": {},
   "source": [
    "6. Display the summary statistics for each DataFrame.\n"
   ]
  },
  {
   "cell_type": "markdown",
   "metadata": {},
   "source": [
    "\n",
    "7. How many unique titles are in the `titles` DataFrame?\n"
   ]
  },
  {
   "cell_type": "markdown",
   "metadata": {},
   "source": [
    "\n",
    "8. What is the oldest date in the `to_date` column? \n"
   ]
  },
  {
   "cell_type": "markdown",
   "metadata": {},
   "source": [
    "\n",
    "9. What is the most recent date in the `to_date` column?"
   ]
  }
 ],
 "metadata": {
  "kernelspec": {
   "display_name": "Python 3.9.12 ('base')",
   "language": "python",
   "name": "python3"
  },
  "language_info": {
   "codemirror_mode": {
    "name": "ipython",
    "version": 3
   },
   "file_extension": ".py",
   "mimetype": "text/x-python",
   "name": "python",
   "nbconvert_exporter": "python",
   "pygments_lexer": "ipython3",
   "version": "3.9.12"
  },
  "orig_nbformat": 4,
  "vscode": {
   "interpreter": {
    "hash": "3067ead486e059ec00ffe7555bdb889e6e264a24dc711bf108106cc7baee8d5d"
   }
  }
 },
 "nbformat": 4,
 "nbformat_minor": 2
}
