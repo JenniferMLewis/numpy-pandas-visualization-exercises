{
 "cells": [
  {
   "cell_type": "markdown",
   "metadata": {},
   "source": [
    "# Pandas Dataframes\n",
    "\n",
    "## Agenda\n",
    "\n",
    "1. About Dataframes   \n",
    "\n",
    "2. Create Dataframes\n",
    "    \n",
    "3. View Dataframes\n",
    "\n",
    "4. Summarize Dataframes   \n",
    "\n",
    "5. Attributes of Dataframes\n",
    "\n",
    "6. Work with the Data in Dataframes\n",
    "    \n",
    "7. Circling back to 'About Dataframes': Series vs. Dataframes\n",
    "\n",
    "## Lesson Goals\n",
    "\n",
    "Upon completion of this lesson and exercises, you should be able to:\n",
    "\n",
    "- Describe what a dataframe is and how it differs from a series. \n",
    "\n",
    "- Identify when you are using a pandas method or a pandas function. `pd.function()`, `df.method()`\n",
    "\n",
    "- Create a dataframe from a dictionary, list of lists, n-dimensional array. `pd.DataFrame()`\n",
    "\n",
    "- Identify an object type. `type(object_name)`\n",
    "\n",
    "- 'Peek' at the contents of a dataframe `print`, `df.head`, `df.tail`, `df.sample`\n",
    "\n",
    "- Summarize information contained in a dataframe. `df.info`, `df.describe`\n",
    "\n",
    "- Access attributes (datatypes, number of rows & columns, row labels, column names) of a dataframe `df.dtypes`, `df.shape`, `df.index`, `df.columns`\n",
    "\n",
    "- Subset a dataframe by selecting or dropping columns `df[['col1', 'col2]]`, `df.drop(columns=['col1'])`\n",
    "\n",
    "- Understand the difference between the single and double bracket. `df[col1]` => Series, `df[[col1]]` => DataFrame\n",
    "\n",
    "- Subset a dataframe by filtering rows using a conditional. `df[df.col1 < 30]`\n",
    "\n",
    "- Filter rows and subset columns in one step. `df[df.col1 < 30][['col1', 'col2']]`\n",
    "\n",
    "- Rename columns `df.columns = [newname1, newname2]\n",
    "\n",
    "- Create a new column using an existing column. `df['newcol'] = df['col1'] + df['col2']`, `df.assign('newcol' = df['col1'] + df['col2']`\n",
    "\n",
    "- Sort a dataframe by one or more columns. `df.sort_values(by = 'col1', ascending = False)`\n",
    "\n",
    "- Chain dataframe methods together, understand when it should work, & troubleshoot when it doesn't. `df.sort_values(by='col1').head(8).col2`\n"
   ]
  },
  {
   "cell_type": "markdown",
   "metadata": {},
   "source": [
    "## About Dataframes\n",
    "\n",
    "- tabular  \n",
    "- 2-dimensional   \n",
    "- provide a number of facilities for manipulating and transforming the data   \n",
    "\n",
    "**Pandas Help: Functions & Methods**\n",
    "\n",
    "You will use the pandas documentation often. pandas.pydata.org/pandas-docs/stable/reference\n",
    "\n",
    "- Documentation on Pandas Funtions can be found [here](https://pandas.pydata.org/pandas-docs/stable/reference/general_functions.html). \n",
    "\n",
    "- Documentation on Pandas DataFrame Methods can be found [here](https://pandas.pydata.org/pandas-docs/stable/reference/frame.html). \n",
    "\n",
    "- Documentation on Pandas Series Methods can be found [here](https://pandas.pydata.org/pandas-docs/stable/reference/series.html). \n",
    "\n",
    "You may be asking, \"What's the difference between a method and a function?\"\n",
    "\n",
    "Boyini (2019) describes a function as *a block of code to carry out a specific task, will contain its own scope and is called by name. All functions may contain zero(no) arguments or more than one arguments. On exit, a function can or can not return one or more values.* \n",
    "\n",
    "He then goes on to describe a method as *a function which belongs to an object.* \n",
    "\n",
    "Methods are *called on* objects, so Pandas DataFrame Methods will be called on dataframe objects, and Pandas Series Methods will be called on series objects. That means that when calling a method, you precede it with the name of your dataframe or series, such as `my_df.info()` or `my_series.info()`. A Pandas Function will begin with `pd`, such as `pd.concat()`. \n",
    "\n"
   ]
  },
  {
   "cell_type": "code",
   "execution_count": 20,
   "metadata": {},
   "outputs": [],
   "source": [
    "import pandas as pd"
   ]
  },
  {
   "cell_type": "markdown",
   "metadata": {},
   "source": [
    "## Create Dataframes\n",
    "\n",
    "1. We can pass a dictionary to create a dataframe, where the keys correspond to the names of the columns, and the values associated with those keys will make up the data.  \n",
    "\n",
    "2. We can also pass lists or arrays to create a dataframe, where each list or array represents a row in the dataframe. \n",
    "\n",
    "3. We can also create dataframes by reading data from an existing structured data set, such as a csv, a sql table, or an excel file. \n",
    "\n",
    "For this lesson, we will create a dataframe using the existing records for NBA Western Conference using the first 3 methods above.\n",
    "\n",
    "\n",
    "| Team| W  | L |\n",
    "| ----| -- | --|\n",
    "| LAC | 40 | 19 | \n",
    "| LAL | 35 | 23 | \n",
    "| UTA | 45 | 15 | \n",
    "| PHX |  41 | 16 | \n",
    "| GSW |  29 | 29 | \n",
    "| POR |  32 | 24 | \n",
    "| MEM |  29 | 27 | \n",
    "| SAS |  28 | 28 | \n",
    "| DAL |  30 | 26 | \n",
    "| DEN |  37 | 20 | \n",
    "| OKC |  20 | 38 | \n",
    "| NOR |  25 | 32 | \n",
    "| SAC |  23 | 34| \n",
    "| HOU |  15 | 43| \n",
    "| MIN |  15 | 43| "
   ]
  },
  {
   "cell_type": "markdown",
   "metadata": {},
   "source": [
    "**Method 1**  \n",
    "\n",
    "Pass a dictionary where keys => column names, values => column values. \n",
    "\n",
    "`df = pd.DataFrame({'col1_name': [values], 'col2_name': [values], 'col3_name': [values]})`"
   ]
  },
  {
   "cell_type": "code",
   "execution_count": 25,
   "metadata": {},
   "outputs": [],
   "source": [
    "Team = ['LAC', 'LAL', 'UTA', 'PHX', 'GSW', 'POR', 'MEM', 'SAS', 'DAL', 'DEN', 'OKC', 'NOR', 'SAC', 'HOU', 'MIN']\n",
    "W = [40, 35, 45, 41, 29, 32, 29, 28, 30, 37, 20, 25, 23, 15, 15]\n",
    "L = [19, 23, 15, 16, 29, 24, 27, 28, 26, 20, 38, 32, 34, 43, 43]"
   ]
  },
  {
   "cell_type": "code",
   "execution_count": null,
   "metadata": {},
   "outputs": [],
   "source": [
    "# create dataframe from dictionary with lists \n"
   ]
  },
  {
   "cell_type": "markdown",
   "metadata": {},
   "source": [
    "**Method 2**. \n",
    "\n",
    "Pass a list of lists where each nested list is a row in the dataframe. \n",
    "\n",
    "`df = pd.DataFrame([row1, row2, row3, row4, ...], columns=[col1_name, col2_name, col3_name])`"
   ]
  },
  {
   "cell_type": "code",
   "execution_count": 3,
   "metadata": {},
   "outputs": [],
   "source": [
    "# each list represents the team vector, or a row. \n",
    "\n",
    "lac = ['LAC', 40, 19]\n",
    "lal = ['LAL', 35, 23]\n",
    "uta = ['UTA', 45, 15]\n",
    "phx = ['PHX', 41, 16] \n",
    "gsw = ['GSW', 29, 29] \n",
    "por = ['POR', 32, 24] \n",
    "mem = ['MEM', 29, 27]\n",
    "sas = ['SAS', 28, 28]\n",
    "dal = ['DAL', 30, 26]\n",
    "den = ['DEN', 37, 20] \n",
    "okc = ['OKC', 20, 38]\n",
    "nor = ['NOR', 25, 32]\n",
    "sac = ['SAC', 23, 34]\n",
    "hou = ['HOU', 15, 43]\n",
    "minn = ['MIN',15, 43]\n",
    "\n"
   ]
  },
  {
   "cell_type": "code",
   "execution_count": 4,
   "metadata": {},
   "outputs": [],
   "source": [
    "# create dataframe from list of lists that represent rows \n",
    "import pandas as pd\n",
    "df = pd.DataFrame([lac, lal, uta])"
   ]
  },
  {
   "cell_type": "markdown",
   "metadata": {},
   "source": [
    "**Method 3**. \n",
    "\n",
    "Read a structured dataset into a dataframe\n",
    "\n",
    "From a csv: \n",
    "\n",
    "`my_df = pd.read_csv('file_name.csv')`\n",
    "\n",
    "From a built-in dataset from pydataset:"
   ]
  },
  {
   "cell_type": "code",
   "execution_count": 17,
   "metadata": {},
   "outputs": [],
   "source": [
    "from pydataset import data\n",
    "color_df = data('HairEyeColor')"
   ]
  },
  {
   "cell_type": "markdown",
   "metadata": {},
   "source": [
    "### Object Types\n",
    "\n",
    "Guesses for the type of objects we just created?\n",
    "\n",
    "`type(df)`"
   ]
  },
  {
   "cell_type": "code",
   "execution_count": null,
   "metadata": {},
   "outputs": [],
   "source": []
  },
  {
   "cell_type": "markdown",
   "metadata": {},
   "source": [
    "### Naming Conventions for Dataframes\n",
    "\n",
    "It is common dataframes to contain `df` in their variable names, as we have here with `nba_df`. In many examples, you may see dataframes simply with the name `df`. In practice, especially if you are working with multiple dataframes, it is good to have a name that will describe what your dataframe contains or how it differs from the other dataframes in your environment, i.e. other dataframes you have created in your notebook or current python session or kernel. For example, when I created the first two dataframes, which are exactly the same, but my purpose is to demonstrate the different ways of creating them, I name them to identify that, albeit ridiculously long names ;). (We will compare them later to prove they are identical, btw). "
   ]
  },
  {
   "cell_type": "markdown",
   "metadata": {},
   "source": [
    "## View Dataframes\n",
    "\n",
    "What's in these dataframes we just created? \n",
    "\n",
    "1. `nba_df` (without `print()`) gives a nice pretty display\n",
    "2. `nba_df` (without `print()`) will not work outside of jupyter or ipython.   \n",
    "3. `print(nba_df)` does not have an `Out[#]`, while `nba_df` does.    \n",
    "4. `nba_df` (without `print()`) will not return anything if there is a statement following it in the same cell that displays something.  "
   ]
  },
  {
   "cell_type": "code",
   "execution_count": null,
   "metadata": {},
   "outputs": [],
   "source": []
  },
  {
   "cell_type": "code",
   "execution_count": null,
   "metadata": {},
   "outputs": [],
   "source": []
  },
  {
   "cell_type": "markdown",
   "metadata": {},
   "source": [
    "We can also take a peek at the data in the dataframe by sampling: the first 5 rows, last 5 rows, a random sample, or anything in between. \n",
    "\n",
    "- `df.head()`: first n rows (default n = 5)  \n",
    "- `df.tail()`: last n rows (default n = 5)  \n",
    "- `df.sample(n, random_state=int)`: sample n rows\n",
    "- `df.sample(frac, random_state=int)`: sample frac (proportion) of rows   "
   ]
  },
  {
   "cell_type": "code",
   "execution_count": null,
   "metadata": {},
   "outputs": [],
   "source": []
  },
  {
   "cell_type": "markdown",
   "metadata": {},
   "source": [
    "## Summarize Dataframes\n",
    "\n",
    "- `df.info()`:  See total number of rows, column names, number of non-null values for each column, datatype of each column, size of the dataframe (memory usage) \n",
    "\n",
    "- `df.describe()`: Summary statistics of all the columns with numeric datatypes. \n"
   ]
  },
  {
   "cell_type": "code",
   "execution_count": 27,
   "metadata": {},
   "outputs": [],
   "source": [
    "# get the object type, index (row) range, column names, number of non-null values, datatypes, and size. \n"
   ]
  },
  {
   "cell_type": "code",
   "execution_count": 29,
   "metadata": {},
   "outputs": [],
   "source": [
    "# get summary stats of the numeric columns"
   ]
  },
  {
   "cell_type": "markdown",
   "metadata": {},
   "source": [
    "## Dataframe Attributes\n",
    "\n",
    "- `df.dtypes`: datatype of each column\n",
    "- `df.shape`: tuple of number of rows & columns in the dataframe\n",
    "- `df.index`: the labels for each row (usually autogenerated int)\n",
    "- `df.columns`: you can also assign new values to this attribute. \n",
    "\n",
    "You will notice that when calling these attributes of dataframes, they are not followed by `()`. When you forget, you will just get a nice error to remind you :)"
   ]
  },
  {
   "cell_type": "code",
   "execution_count": 30,
   "metadata": {},
   "outputs": [],
   "source": [
    "# get the datatypes of each column"
   ]
  },
  {
   "cell_type": "code",
   "execution_count": 31,
   "metadata": {},
   "outputs": [],
   "source": [
    "# what type of object is returned when we call dtypes?"
   ]
  },
  {
   "cell_type": "code",
   "execution_count": 32,
   "metadata": {},
   "outputs": [],
   "source": [
    "# see number of rows and columns, or the shape, of the df\n"
   ]
  },
  {
   "cell_type": "code",
   "execution_count": 33,
   "metadata": {},
   "outputs": [],
   "source": [
    "# what type of object does 'shape' return? \n"
   ]
  },
  {
   "cell_type": "code",
   "execution_count": 22,
   "metadata": {},
   "outputs": [],
   "source": [
    "# how can I get the number of rows? \n"
   ]
  },
  {
   "cell_type": "code",
   "execution_count": 35,
   "metadata": {},
   "outputs": [],
   "source": [
    "# what are the row labels, or index values, of of my dataframe? \n"
   ]
  },
  {
   "cell_type": "code",
   "execution_count": 36,
   "metadata": {},
   "outputs": [],
   "source": [
    "# What type of object does .index return? "
   ]
  },
  {
   "cell_type": "code",
   "execution_count": 37,
   "metadata": {},
   "outputs": [],
   "source": [
    "# what are the column names of my dataframe? "
   ]
  },
  {
   "cell_type": "code",
   "execution_count": 38,
   "metadata": {},
   "outputs": [],
   "source": [
    "# what type of object is returned? "
   ]
  },
  {
   "cell_type": "markdown",
   "metadata": {},
   "source": [
    "What do you notice? \n",
    "\n",
    "Column names are also an index, like rows. Axis 0 = Rows, Axis 1 = Columns"
   ]
  },
  {
   "cell_type": "code",
   "execution_count": 25,
   "metadata": {},
   "outputs": [],
   "source": [
    "# rename the columns using the .columns attribute and the .upper and .lower methods. \n"
   ]
  },
  {
   "cell_type": "markdown",
   "metadata": {},
   "source": [
    "## Subset/Filter Dataframes\n",
    "\n",
    "### Columns\n",
    "\n",
    "Return a dataframe\n",
    "\n",
    "- `df[[col1, col2]]`  \n",
    "- `df[[col1]]`  \n",
    "- `mycols = [col1, col2]` -> `df[mycols]`  \n",
    "\n",
    "Return a series\n",
    "- `df[col1]`  \n",
    "- `df.col1`  \n",
    "\n",
    "\n",
    "A dataframe will have a column index while series will not. A series will instead have a name for the series that was the original column name you selected. "
   ]
  },
  {
   "cell_type": "code",
   "execution_count": 26,
   "metadata": {},
   "outputs": [],
   "source": [
    "# return a multi-column dataframe"
   ]
  },
  {
   "cell_type": "code",
   "execution_count": 27,
   "metadata": {},
   "outputs": [],
   "source": [
    "# return a single column dataframe\n"
   ]
  },
  {
   "cell_type": "code",
   "execution_count": 41,
   "metadata": {},
   "outputs": [],
   "source": [
    "# return a series using single bracket\n"
   ]
  },
  {
   "cell_type": "code",
   "execution_count": 42,
   "metadata": {},
   "outputs": [],
   "source": [
    "# return a series using '.': df.colname"
   ]
  },
  {
   "cell_type": "markdown",
   "metadata": {},
   "source": [
    "### Rows\n",
    "\n",
    "We can subset a dataframe by filtering rows using a conditional. \n",
    "\n",
    "For example, `df[df.col1 < x]` will return all columns and all rows where col1 value is less than x. "
   ]
  },
  {
   "cell_type": "code",
   "execution_count": null,
   "metadata": {},
   "outputs": [],
   "source": []
  },
  {
   "cell_type": "markdown",
   "metadata": {},
   "source": [
    "### Subset Columns and Filter Rows\n",
    "\n",
    "- `df[df.col1 < x].col2`: column 2 and rows where col1 value is less than x. What kind of object is returned?     \n",
    "- `df[df.col1 < x][[col1, col2]]`: columns 1 & 2 and rows where col1 value is less than x. What kind of object is returned?   "
   ]
  },
  {
   "cell_type": "code",
   "execution_count": null,
   "metadata": {},
   "outputs": [],
   "source": []
  },
  {
   "cell_type": "markdown",
   "metadata": {},
   "source": [
    "## Drop, Rename, Add Columns\n",
    "\n",
    "**Drop**\n",
    "\n",
    "`df.drop(colums=[])`\n",
    "\n",
    "In the drop and rename methods (and many others in pandas), the original dataframe is not changed, but instead a new dataframe is produced. However, you can use the `inplace` argument to change the original dataframe. \n"
   ]
  },
  {
   "cell_type": "code",
   "execution_count": 49,
   "metadata": {},
   "outputs": [],
   "source": [
    "# drop columns "
   ]
  },
  {
   "cell_type": "code",
   "execution_count": 50,
   "metadata": {},
   "outputs": [],
   "source": [
    "# using 'inplace'"
   ]
  },
  {
   "cell_type": "markdown",
   "metadata": {},
   "source": [
    "**Rename**\n",
    "\n",
    "`df.columns = [col1_new, col2_new, col3_new]`"
   ]
  },
  {
   "cell_type": "code",
   "execution_count": 52,
   "metadata": {},
   "outputs": [],
   "source": [
    "# rename columns using .columns\n"
   ]
  },
  {
   "cell_type": "markdown",
   "metadata": {},
   "source": [
    "Benefit of the rename method is that you don't have to list all column names, only ones you are renaming. \n",
    "\n",
    "`df.rename(columns={'original_name': 'new_name'})`\n"
   ]
  },
  {
   "cell_type": "code",
   "execution_count": 53,
   "metadata": {},
   "outputs": [],
   "source": [
    "# rename columns using .rename with dictionary"
   ]
  },
  {
   "cell_type": "markdown",
   "metadata": {},
   "source": [
    "`df['new_col'] = df['col1'] - df['col2']`"
   ]
  },
  {
   "cell_type": "code",
   "execution_count": 54,
   "metadata": {},
   "outputs": [],
   "source": [
    "# create new columns: win_pct"
   ]
  },
  {
   "cell_type": "markdown",
   "metadata": {},
   "source": [
    "`df.assign('new_col' = df['col1'] - df['col2'])`"
   ]
  },
  {
   "cell_type": "code",
   "execution_count": 55,
   "metadata": {},
   "outputs": [],
   "source": [
    "# create new column using assign\n"
   ]
  },
  {
   "cell_type": "markdown",
   "metadata": {},
   "source": [
    "## Sort Dataframes\n",
    "\n",
    "- `df.sort_values(by='col1', ascending=False)`: default is True, so `ascending` argument is not necessary if sorting in ascending order. "
   ]
  },
  {
   "cell_type": "code",
   "execution_count": 17,
   "metadata": {},
   "outputs": [],
   "source": [
    "# sort by win_pct using sort_values"
   ]
  },
  {
   "cell_type": "code",
   "execution_count": 56,
   "metadata": {},
   "outputs": [],
   "source": [
    "# save sorted dataframe and select top/bottom"
   ]
  },
  {
   "cell_type": "markdown",
   "metadata": {},
   "source": [
    "## Chain Dataframe Methods\n",
    "\n",
    "As long as each method is returning a dataframe, these can be chained together to quickly and easily create the dataframe you need. \n",
    "\n",
    "Challenge: find the teams that would be in playoffs today if it started right now. Find the top 8 teams by win_pct. \n",
    "\n",
    "`df.sort_values(by='win_pct').head(8).Team`"
   ]
  },
  {
   "cell_type": "code",
   "execution_count": null,
   "metadata": {},
   "outputs": [],
   "source": []
  },
  {
   "cell_type": "markdown",
   "metadata": {},
   "source": [
    "## Series vs. Dataframe"
   ]
  },
  {
   "cell_type": "code",
   "execution_count": 61,
   "metadata": {},
   "outputs": [],
   "source": [
    "s_values = ['LAL', 'LAC', 'DEN', 'OKC']\n",
    "s_name = 'team'\n",
    "s_index = [0, 1, 2, 3]\n",
    "s_dtype = 'str'\n",
    "\n",
    "s_teams = pd.Series(data=s_values, \n",
    "                    index=s_index,  \n",
    "                    dtype=s_dtype, \n",
    "                    name=s_name)"
   ]
  },
  {
   "cell_type": "code",
   "execution_count": 62,
   "metadata": {},
   "outputs": [
    {
     "name": "stdout",
     "output_type": "stream",
     "text": [
      "name:  team \n",
      "columns: NA\n",
      "index:  Int64Index([0, 1, 2, 3], dtype='int64') \n",
      "axes:  [Int64Index([0, 1, 2, 3], dtype='int64')] \n",
      "dtypes:  object \n",
      "ndim:  1 \n",
      "size:  4 \n",
      "shape:  (4,) \n",
      "values:  ['LAL' 'LAC' 'DEN' 'OKC']\n"
     ]
    }
   ],
   "source": [
    "print(\"name: \", s_teams.name,  \"\\ncolumns: NA\\nindex: \", s_teams.index, \"\\naxes: \", s_teams.axes, \"\\ndtypes: \", s_teams.dtypes, \n",
    "      \"\\nndim: \", s_teams.ndim, \"\\nsize: \", s_teams.size, \"\\nshape: \", s_teams.shape, \"\\nvalues: \", s_teams.values)"
   ]
  },
  {
   "cell_type": "code",
   "execution_count": 63,
   "metadata": {},
   "outputs": [],
   "source": [
    "s_values = [52, 48, 46, 44]\n",
    "s_name = 'wins'\n",
    "s_index = [0, 1, 2, 3]\n",
    "s_dtype = 'int'\n",
    "\n",
    "s_wins = pd.Series(data=s_values, \n",
    "                    index=s_index,  \n",
    "                    dtype=s_dtype, \n",
    "                    name=s_name)"
   ]
  },
  {
   "cell_type": "code",
   "execution_count": 64,
   "metadata": {},
   "outputs": [
    {
     "name": "stdout",
     "output_type": "stream",
     "text": [
      "name:  wins \n",
      "columns: NA\n",
      "index:  Int64Index([0, 1, 2, 3], dtype='int64') \n",
      "axes:  [Int64Index([0, 1, 2, 3], dtype='int64')] \n",
      "dtypes:  int64 \n",
      "ndim:  1 \n",
      "size:  4 \n",
      "shape:  (4,) \n",
      "values:  [52 48 46 44]\n"
     ]
    }
   ],
   "source": [
    "print(\"name: \", s_wins.name,  \"\\ncolumns: NA\\nindex: \", s_wins.index, \"\\naxes: \", s_wins.axes, \"\\ndtypes: \", s_wins.dtypes, \n",
    "      \"\\nndim: \", s_wins.ndim, \"\\nsize: \", s_wins.size, \"\\nshape: \", s_wins.shape, \"\\nvalues: \", s_wins.values)"
   ]
  },
  {
   "cell_type": "code",
   "execution_count": 65,
   "metadata": {},
   "outputs": [
    {
     "name": "stdout",
     "output_type": "stream",
     "text": [
      "name: NA\n",
      "columns:  Index(['team', 'wins'], dtype='object') \n",
      "index:  Int64Index([0, 1, 2, 3], dtype='int64') \n",
      "axes:  [Int64Index([0, 1, 2, 3], dtype='int64'), Index(['team', 'wins'], dtype='object')] \n",
      "dtypes:  team    object\n",
      "wins     int64\n",
      "dtype: object \n",
      "ndim:  2 \n",
      "size:  8 \n",
      "shape:  (4, 2) \n",
      "values:  [['LAL' 52]\n",
      " ['LAC' 48]\n",
      " ['DEN' 46]\n",
      " ['OKC' 44]]\n"
     ]
    }
   ],
   "source": [
    "df = pd.DataFrame({'team': s_teams, 'wins': s_wins})\n",
    "\n",
    "print(\"name: NA\\ncolumns: \", df.columns, \"\\nindex: \", df.index, \"\\naxes: \", df.axes, \n",
    "      \"\\ndtypes: \", df.dtypes, \"\\nndim: \", df.ndim, \"\\nsize: \", df.size, \n",
    "      \"\\nshape: \", df.shape, \"\\nvalues: \", df.values)\n",
    "# data=None, index=None, columns=None, dtype=None, copy=Fals"
   ]
  },
  {
   "cell_type": "code",
   "execution_count": 66,
   "metadata": {},
   "outputs": [
    {
     "data": {
      "text/html": [
       "<div>\n",
       "<style scoped>\n",
       "    .dataframe tbody tr th:only-of-type {\n",
       "        vertical-align: middle;\n",
       "    }\n",
       "\n",
       "    .dataframe tbody tr th {\n",
       "        vertical-align: top;\n",
       "    }\n",
       "\n",
       "    .dataframe thead th {\n",
       "        text-align: right;\n",
       "    }\n",
       "</style>\n",
       "<table border=\"1\" class=\"dataframe\">\n",
       "  <thead>\n",
       "    <tr style=\"text-align: right;\">\n",
       "      <th></th>\n",
       "      <th>team</th>\n",
       "    </tr>\n",
       "  </thead>\n",
       "  <tbody>\n",
       "    <tr>\n",
       "      <th>0</th>\n",
       "      <td>LAL</td>\n",
       "    </tr>\n",
       "    <tr>\n",
       "      <th>1</th>\n",
       "      <td>LAC</td>\n",
       "    </tr>\n",
       "    <tr>\n",
       "      <th>2</th>\n",
       "      <td>DEN</td>\n",
       "    </tr>\n",
       "    <tr>\n",
       "      <th>3</th>\n",
       "      <td>OKC</td>\n",
       "    </tr>\n",
       "  </tbody>\n",
       "</table>\n",
       "</div>"
      ],
      "text/plain": [
       "  team\n",
       "0  LAL\n",
       "1  LAC\n",
       "2  DEN\n",
       "3  OKC"
      ]
     },
     "execution_count": 66,
     "metadata": {},
     "output_type": "execute_result"
    }
   ],
   "source": [
    "df['team']\n",
    "\n",
    "df[['team']]"
   ]
  },
  {
   "cell_type": "markdown",
   "metadata": {},
   "source": [
    "**References**\n",
    "\n",
    "Boyini, K. (2019, February 19). Difference between Method and Function in Python. Retrieved January 20, 2021, from https://www.tutorialspoint.com/difference-between-method-and-function-in-python#:~:text=Unlike a function, methods are,access that data within it.\n",
    "\n",
    "**Time needed to deliver lesson:**\n",
    "\n"
   ]
  }
 ],
 "metadata": {
  "kernelspec": {
   "display_name": "Python 3",
   "language": "python",
   "name": "python3"
  },
  "language_info": {
   "codemirror_mode": {
    "name": "ipython",
    "version": 3
   },
   "file_extension": ".py",
   "mimetype": "text/x-python",
   "name": "python",
   "nbconvert_exporter": "python",
   "pygments_lexer": "ipython3",
   "version": "3.8.8"
  }
 },
 "nbformat": 4,
 "nbformat_minor": 2
}
